{
 "cells": [
  {
   "cell_type": "code",
   "execution_count": 5,
   "metadata": {},
   "outputs": [],
   "source": [
    "import torch\n",
    "import os\n",
    "from torchvision.datasets import CIFAR10\n",
    "from linear_classifier import LinearClassifier\n",
    "import matplotlib.pyplot as plt"
   ]
  },
  {
   "cell_type": "code",
   "execution_count": 7,
   "metadata": {},
   "outputs": [
    {
     "ename": "TypeError",
     "evalue": "__init__() missing 1 required positional argument: 'root'",
     "output_type": "error",
     "traceback": [
      "\u001b[1;31m---------------------------------------------------------------------------\u001b[0m",
      "\u001b[1;31mTypeError\u001b[0m                                 Traceback (most recent call last)",
      "\u001b[1;32m~\\AppData\\Local\\Temp\\ipykernel_23468\\3480389924.py\u001b[0m in \u001b[0;36m<module>\u001b[1;34m\u001b[0m\n\u001b[0;32m      1\u001b[0m \u001b[1;31m# Dataset Download\u001b[0m\u001b[1;33m\u001b[0m\u001b[1;33m\u001b[0m\u001b[0m\n\u001b[0;32m      2\u001b[0m \u001b[0mdownload\u001b[0m \u001b[1;33m=\u001b[0m \u001b[1;32mnot\u001b[0m \u001b[0mos\u001b[0m\u001b[1;33m.\u001b[0m\u001b[0mpath\u001b[0m\u001b[1;33m.\u001b[0m\u001b[0misdir\u001b[0m\u001b[1;33m(\u001b[0m\u001b[1;34m\"cifar-10-batches-py\"\u001b[0m\u001b[1;33m)\u001b[0m\u001b[1;33m\u001b[0m\u001b[1;33m\u001b[0m\u001b[0m\n\u001b[1;32m----> 3\u001b[1;33m \u001b[0mdset_train\u001b[0m \u001b[1;33m=\u001b[0m \u001b[0mCIFAR10\u001b[0m\u001b[1;33m(\u001b[0m\u001b[0mtrain\u001b[0m\u001b[1;33m=\u001b[0m\u001b[1;32mTrue\u001b[0m\u001b[1;33m)\u001b[0m\u001b[1;33m\u001b[0m\u001b[1;33m\u001b[0m\u001b[0m\n\u001b[0m\u001b[0;32m      4\u001b[0m \u001b[0mdset_test\u001b[0m \u001b[1;33m=\u001b[0m \u001b[0mCIFAR10\u001b[0m\u001b[1;33m(\u001b[0m\u001b[0mtrain\u001b[0m\u001b[1;33m=\u001b[0m\u001b[1;32mFalse\u001b[0m\u001b[1;33m)\u001b[0m\u001b[1;33m\u001b[0m\u001b[1;33m\u001b[0m\u001b[0m\n\u001b[0;32m      5\u001b[0m \u001b[1;33m\u001b[0m\u001b[0m\n",
      "\u001b[1;31mTypeError\u001b[0m: __init__() missing 1 required positional argument: 'root'"
     ]
    }
   ],
   "source": [
    "# Dataset Download\n",
    "download = not os.path.isdir(\"cifar-10-batches-py\")\n",
    "dset_train = CIFAR10(root=\".\", download=download, train=True)\n",
    "dset_test = CIFAR10(root=\".\", train=False)\n",
    "\n",
    "X = torch.tensor(dset_train.data, dtype=torch.float32).permute(0, 3, 1, 2).div_(255)\n",
    "y = torch.tensor(dset_train.targets, dtype=torch.int64)\n",
    "\n",
    "X.cuda()\n",
    "y.cuda()\n",
    "\n",
    "X_test = torch.tensor(dset_test.data, dtype=torch.float32).permute(0, 3, 1, 2).div_(255)\n",
    "y_test = torch.tensor(dset_test.targets, dtype=torch.int64)\n",
    "\n",
    "X_test.cuda()\n",
    "y_test.cuda();"
   ]
  },
  {
   "cell_type": "code",
   "execution_count": null,
   "metadata": {},
   "outputs": [
    {
     "name": "stdout",
     "output_type": "stream",
     "text": [
      "Train data shape:  torch.Size([35000, 3073])\n",
      "Train labels shape:  torch.Size([35000])\n",
      "Validation data shape:  torch.Size([15000, 3073])\n",
      "Validation labels shape:  torch.Size([15000])\n",
      "Test data shape:  torch.Size([10000, 3073])\n",
      "Test labels shape:  torch.Size([10000])\n"
     ]
    }
   ],
   "source": [
    "# Dataset Preprocessing\n",
    "\n",
    "# Flatting\n",
    "X = X.reshape(X.shape[0], -1)\n",
    "X_test = X_test.reshape(X_test.shape[0], -1)\n",
    "\n",
    "# Adding Bias\n",
    "ones_train = torch.ones(X.shape[0], 1, device=X.device)\n",
    "X = torch.cat([X, ones_train], dim=1)\n",
    "\n",
    "ones_train = torch.ones(X_test.shape[0], 1, device=X_test.device)\n",
    "X_test = torch.cat([X_test, ones_train], dim=1)\n",
    "\n",
    "# Validation and Training Split\n",
    "traning_ratio = 0.70\n",
    "num_training = int(X.shape[0] * (1.0 - traning_ratio))\n",
    "num_validation = X.shape[0] - num_training\n",
    "X_train = X[num_training : num_training + num_validation]\n",
    "y_train = y[num_training : num_training + num_validation]\n",
    "\n",
    "X_val = X[0:num_training]\n",
    "y_val = y[0:num_training]\n",
    "\n",
    "print('Train data shape: ', X_train.shape)\n",
    "print('Train labels shape: ', y_train.shape)\n",
    "print('Validation data shape: ', X_val.shape)\n",
    "print('Validation labels shape: ', y_val.shape)\n",
    "print('Test data shape: ', X_test.shape)\n",
    "print('Test labels shape: ', y_test.shape)"
   ]
  },
  {
   "cell_type": "code",
   "execution_count": null,
   "metadata": {},
   "outputs": [
    {
     "name": "stdout",
     "output_type": "stream",
     "text": [
      "Trainning Accuracy: 0.34, Validation Accuracy: 0.33\n",
      "Final Accuracy on Test: 33.00%\n"
     ]
    }
   ],
   "source": [
    "# Classify\n",
    "\n",
    "classifier = LinearClassifier()\n",
    "learning_rate = 1e-2\n",
    "regularization = 1e-2\n",
    "number_of_iteration = 2000\n",
    "number_of_item_in_batch = 200\n",
    "history = classifier.train(X_train, y_train, X_val, y_val, learning_rate,\n",
    "                           regularization, number_of_iteration, number_of_item_in_batch)\n",
    "\n",
    "y_pred = classifier.predict(X_test)\n",
    "\n",
    "accuracy = classifier.calculate_accuracy(y_test, y_pred)\n",
    "\n",
    "print(f'Final Accuracy on Test: {accuracy*100:.2f}%')\n"
   ]
  },
  {
   "cell_type": "code",
   "execution_count": null,
   "metadata": {},
   "outputs": [],
   "source": []
  }
 ],
 "metadata": {
  "kernelspec": {
   "display_name": "pytorch",
   "language": "python",
   "name": "python3"
  },
  "language_info": {
   "codemirror_mode": {
    "name": "ipython",
    "version": 3
   },
   "file_extension": ".py",
   "mimetype": "text/x-python",
   "name": "python",
   "nbconvert_exporter": "python",
   "pygments_lexer": "ipython3",
   "version": "3.9.16"
  },
  "orig_nbformat": 4
 },
 "nbformat": 4,
 "nbformat_minor": 2
}
